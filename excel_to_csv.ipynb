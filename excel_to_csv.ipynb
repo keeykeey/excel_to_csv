{
 "cells": [
  {
   "cell_type": "code",
   "execution_count": 7,
   "metadata": {},
   "outputs": [],
   "source": [
    "import os\n",
    "import pandas as pd\n",
    "import openpyxl\n",
    "import numpy as np"
   ]
  },
  {
   "cell_type": "code",
   "execution_count": 2,
   "metadata": {},
   "outputs": [],
   "source": [
    "pd.set_option('display.max_columns', None)"
   ]
  },
  {
   "cell_type": "code",
   "execution_count": 3,
   "metadata": {},
   "outputs": [],
   "source": [
    "VALID_SHEET = ['マスタ', '任用調書', '仕訳書', '仕訳書（期末手当）', '仕訳書年次',\n",
    "               '仕訳書年次天引', '社会保険', '住民税', '賃金台帳', '源泉徴収票A', \n",
    "               '源泉徴収票B', '財務会計引継ぎデータ', '財務会計引継ぎデータ (月次)', \n",
    "               '財務会計引継ぎデータ (月次)04', '届出書（社会保険）']\n",
    "HEADER_RANGE = [3,3,3,3,3,\n",
    "                3,3,3,5,5,\n",
    "                5,5,5,5,1]\n",
    "INPUT_DIR = \"./input/\"\n",
    "OUTPUT_DIR = \"./output/\"\n",
    "INVALID_STRING_CONVERTER = {\"\\uff5e\":\"to\"}"
   ]
  },
  {
   "cell_type": "code",
   "execution_count": 10,
   "metadata": {},
   "outputs": [],
   "source": [
    "def mask_dataframe(df):\n",
    "    df = df.mask(500000<=df,500000)\n",
    "    df = df.mask(400000<=df<50000,400000)\n",
    "    df = df.mask(300000<=df<40000,300000)\n",
    "    df = df.mask(200000<=df<30000,200000)\n",
    "    df = df.mask(100000<=df<20000,100000)\n",
    "    return df"
   ]
  },
  {
   "cell_type": "code",
   "execution_count": null,
   "metadata": {},
   "outputs": [],
   "source": [
    "def set_proper_layout(df,switch):\n",
    "    if switch in['マスタ', '任用調書', '仕訳書', '仕訳書（期末手当）', '仕訳書年次','仕訳書年次天引']:\n",
    "        return df\n",
    "    return df"
   ]
  },
  {
   "cell_type": "code",
   "execution_count": null,
   "metadata": {},
   "outputs": [],
   "source": [
    "'源泉徴収票A', '源泉徴収票B','財務会計引継ぎデータ', '財務会計引継ぎデータ (月次)', '財務会計引継ぎデータ (月次)04',\n",
    " '社会保険', '住民税', '賃金台帳',  '届出書（社会保険）'"
   ]
  },
  {
   "cell_type": "code",
   "execution_count": 11,
   "metadata": {},
   "outputs": [],
   "source": [
    "class CollectSheets():\n",
    "    def __init__(self,input_dir,output_dir,sheet_name,header_range):\n",
    "        self.input_dir = input_dir\n",
    "        self.output_dir = output_dir\n",
    "        self.sheet_name = sheet_name\n",
    "        self.header_range = header_range\n",
    "    def to_csv(self):\n",
    "        excel_files = [ \"./input/\" + path for path in os.listdir(self.input_dir)]\n",
    "        count = len(excel_files)\n",
    "        df = pd.read_excel(excel_files[0],sheet_name=self.sheet_name,header=None)\n",
    "        for i in range(count-1):\n",
    "            another_df = pd.read_excel(str(excel_files[i+1]),sheet_name=self.sheet_name,header=None).iloc[self.header_range:,:]\n",
    "            df =pd.concat([df,another_df])\n",
    "        df=df.replace(INVALID_STRING_CONVERTER,regex=True)\n",
    "        df=mask_dataframe(df)\n",
    "        df.to_csv(self.output_dir + self.sheet_name + \".csv\",index=False,header=false,encoding=\"shift jis\",line_terminator=\"\\r\\n\")"
   ]
  },
  {
   "cell_type": "code",
   "execution_count": 5,
   "metadata": {},
   "outputs": [],
   "source": [
    "def main():\n",
    "    for i in range(len(VALID_SHEET)):\n",
    "        collected_sheet = CollectSheets(INPUT_DIR,OUTPUT_DIR,VALID_SHEET[i],HEADER_RANGE[i])\n",
    "        collected_sheet.to_csv()"
   ]
  },
  {
   "cell_type": "code",
   "execution_count": 6,
   "metadata": {},
   "outputs": [],
   "source": [
    "main()"
   ]
  }
 ],
 "metadata": {
  "kernelspec": {
   "display_name": "Python 3",
   "language": "python",
   "name": "python3"
  },
  "language_info": {
   "codemirror_mode": {
    "name": "ipython",
    "version": 3
   },
   "file_extension": ".py",
   "mimetype": "text/x-python",
   "name": "python",
   "nbconvert_exporter": "python",
   "pygments_lexer": "ipython3",
   "version": "3.8.3"
  }
 },
 "nbformat": 4,
 "nbformat_minor": 4
}
